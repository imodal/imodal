{
 "cells": [
  {
   "cell_type": "code",
   "execution_count": null,
   "metadata": {},
   "outputs": [],
   "source": [
    "%matplotlib inline"
   ]
  },
  {
   "cell_type": "markdown",
   "metadata": {},
   "source": [
    "\n",
    "# Structured Deformations to Model Acropetal Growth\n",
    "\n",
    "1. Curve and dots registration using implicit modules of order 1, learning the growth model tensor.\n",
    "2. Curve registration using implicit modules of order with learned growth model tensor.\n",
    "\n"
   ]
  },
  {
   "cell_type": "markdown",
   "metadata": {},
   "source": [
    "Import relevant Python modules.\n",
    "\n",
    "\n"
   ]
  },
  {
   "cell_type": "code",
   "execution_count": null,
   "metadata": {},
   "outputs": [],
   "source": [
    "import sys\n",
    "sys.path.append(\"../../\")\n",
    "import math\n",
    "import copy\n",
    "import pickle\n",
    "\n",
    "import torch\n",
    "\n",
    "import matplotlib.pyplot as plt\n",
    "\n",
    "import imodal\n",
    "\n",
    "torch.set_default_dtype(torch.float32)\n",
    "imodal.Utilities.set_compute_backend('torch')"
   ]
  },
  {
   "cell_type": "markdown",
   "metadata": {},
   "source": [
    "## Learning the growth model tensor\n",
    "\n",
    "We load the data (shape and dots of the source and target leaves).\n",
    "\n",
    "\n"
   ]
  },
  {
   "cell_type": "code",
   "execution_count": null,
   "metadata": {},
   "outputs": [],
   "source": [
    "with open(\"../../data/acropetal.pickle\", 'rb') as f:\n",
    "    data = pickle.load(f)\n",
    "\n",
    "dots_source = torch.tensor(data['dots_source'], dtype=torch.get_default_dtype())\n",
    "dots_target = torch.tensor(data['dots_target'], dtype=torch.get_default_dtype())\n",
    "shape_source = imodal.Utilities.close_shape(torch.tensor(data['shape_source']).type(torch.get_default_dtype()))\n",
    "shape_target = imodal.Utilities.close_shape(torch.tensor(data['shape_target']).type(torch.get_default_dtype()))\n",
    "\n",
    "\n",
    "aabb_source = imodal.Utilities.AABB.build_from_points(shape_source)\n",
    "aabb_target = imodal.Utilities.AABB.build_from_points(shape_target)"
   ]
  },
  {
   "cell_type": "markdown",
   "metadata": {},
   "source": [
    "Plot source and target.\n",
    "\n",
    "\n"
   ]
  },
  {
   "cell_type": "code",
   "execution_count": null,
   "metadata": {},
   "outputs": [],
   "source": [
    "plt.title(\"Source and target\")\n",
    "plt.plot(shape_source[:, 0].numpy(), shape_source[:, 1].numpy(), color='black')\n",
    "plt.plot(dots_source[:, 0].numpy(), dots_source[:, 1].numpy(), '.', color='black')\n",
    "plt.plot(shape_target[:, 0].numpy(), shape_target[:, 1].numpy(), color='red')\n",
    "plt.plot(dots_target[:, 0].numpy(), dots_target[:, 1].numpy(), '.', color='red')\n",
    "\n",
    "plt.axis('equal')\n",
    "plt.show()"
   ]
  },
  {
   "cell_type": "markdown",
   "metadata": {},
   "source": [
    "We now sample the points that will be used by the implicit deformation\n",
    "module of order 1 (growth module).\n",
    "\n",
    "\n"
   ]
  },
  {
   "cell_type": "code",
   "execution_count": null,
   "metadata": {},
   "outputs": [],
   "source": [
    "# Build AABB (Axis Aligned Bounding Box) around the source shape and uniformly\n",
    "# sample points for the growth module.\n",
    "points_density = 0.05\n",
    "\n",
    "aabb_source = imodal.Utilities.AABB.build_from_points(shape_source)\n",
    "\n",
    "points_growth = imodal.Utilities.fill_area_uniform_density(imodal.Utilities.area_shape, aabb_source, points_density, shape=1.5*shape_source)\n",
    "points_growth_mask = imodal.Utilities.area_shape(points_growth, shape=1.*shape_source)\n",
    "points_growth = points_growth[points_growth_mask]\n",
    "\n",
    "# Initial normal frames for the growth module.\n",
    "rot_growth = torch.stack([imodal.Utilities.rot2d(0.)]*points_growth.shape[0], axis=0)"
   ]
  },
  {
   "cell_type": "markdown",
   "metadata": {},
   "source": [
    "Plot points of the growth module.\n",
    "\n",
    "\n"
   ]
  },
  {
   "cell_type": "code",
   "execution_count": null,
   "metadata": {},
   "outputs": [],
   "source": [
    "plt.plot(shape_source[:, 0].numpy(), shape_source[:, 1].numpy(), color='black')\n",
    "plt.plot(points_growth[:, 0].numpy(), points_growth[:, 1].numpy(), 'o', color='blue')\n",
    "plt.axis('equal')\n",
    "plt.show()"
   ]
  },
  {
   "cell_type": "markdown",
   "metadata": {},
   "source": [
    "Create the deformation model with a combination of 3 modules : implicit module\n",
    "of order 1 (growth model), implicit module of order 0 (small corrections) and\n",
    "a global translation.\n",
    "\n",
    "\n"
   ]
  },
  {
   "cell_type": "markdown",
   "metadata": {},
   "source": [
    "Create and initialize the global translation module.\n",
    "\n",
    "\n"
   ]
  },
  {
   "cell_type": "code",
   "execution_count": null,
   "metadata": {},
   "outputs": [],
   "source": [
    "coeff_global = 15.\n",
    "\n",
    "global_translation = imodal.DeformationModules.GlobalTranslation(2, coeff=coeff_global)"
   ]
  },
  {
   "cell_type": "markdown",
   "metadata": {},
   "source": [
    "Create and initialize the growth module.\n",
    "\n",
    "\n"
   ]
  },
  {
   "cell_type": "code",
   "execution_count": null,
   "metadata": {},
   "outputs": [],
   "source": [
    "nu = 0.1\n",
    "coeff_growth = 0.01\n",
    "scale_growth = 100.\n",
    "\n",
    "C = torch.empty(points_growth.shape[0], 2, 1)\n",
    "\n",
    "growth = imodal.DeformationModules.ImplicitModule1(2, points_growth.shape[0], scale_growth, C, coeff=coeff_growth, nu=nu, gd=(points_growth, rot_growth))"
   ]
  },
  {
   "cell_type": "markdown",
   "metadata": {},
   "source": [
    "Create and initialize local translations module.\n",
    "\n",
    "\n"
   ]
  },
  {
   "cell_type": "code",
   "execution_count": null,
   "metadata": {},
   "outputs": [],
   "source": [
    "coeff_small = 100.\n",
    "nu = 0.1\n",
    "scale_small = 10.\n",
    "points_small = shape_source.clone()\n",
    "small_scale_translations = imodal.DeformationModules.ImplicitModule0(2, points_small.shape[0], scale_small, coeff=coeff_small, nu=nu, gd=points_small)"
   ]
  },
  {
   "cell_type": "markdown",
   "metadata": {},
   "source": [
    "Define our growth model tensor.\n",
    "\n",
    "\n"
   ]
  },
  {
   "cell_type": "code",
   "execution_count": null,
   "metadata": {},
   "outputs": [],
   "source": [
    "# The polynomial model for our growth model tensor.\n",
    "def pol(pos, a, b, c, d):\n",
    "    return a + b*pos[:, 1]  + c*pos[:, 1]**2 + d*pos[:, 1]**3\n",
    "\n",
    "\n",
    "# Callback called when evaluating the model to compute the growth model tensor from parameters.\n",
    "def callback_compute_c(init_manifold, modules, parameters, deformables):\n",
    "    abcd = parameters['abcd']['params'][0]\n",
    "    a = abcd[0].unsqueeze(1)\n",
    "    b = abcd[1].unsqueeze(1)\n",
    "    c = abcd[2].unsqueeze(1)\n",
    "    d = abcd[3].unsqueeze(1)\n",
    "    modules[3].C = pol(init_manifold[3].gd[0], a, b, c, d).transpose(0, 1).unsqueeze(2)\n",
    "\n",
    "\n",
    "# Initial parameters of our growth model tensor.\n",
    "abcd = torch.zeros(4, 2)\n",
    "abcd[0] = 0.1 * torch.ones(2)\n",
    "abcd.requires_grad_()"
   ]
  },
  {
   "cell_type": "markdown",
   "metadata": {},
   "source": [
    "Define deformables used by the registration model.\n",
    "\n",
    "\n"
   ]
  },
  {
   "cell_type": "code",
   "execution_count": null,
   "metadata": {},
   "outputs": [],
   "source": [
    "deformable_shape_source = imodal.Models.DeformablePoints(shape_source)\n",
    "deformable_shape_target = imodal.Models.DeformablePoints(shape_target)\n",
    "deformable_dots_source = imodal.Models.DeformablePoints(dots_source)\n",
    "deformable_dots_target = imodal.Models.DeformablePoints(dots_target)"
   ]
  },
  {
   "cell_type": "markdown",
   "metadata": {},
   "source": [
    "Define the registration model.\n",
    "\n",
    "\n"
   ]
  },
  {
   "cell_type": "code",
   "execution_count": null,
   "metadata": {},
   "outputs": [],
   "source": [
    "model = imodal.Models.RegistrationModel(\n",
    "    [deformable_shape_source, deformable_dots_source],\n",
    "    [global_translation, growth, small_scale_translations],\n",
    "    [imodal.Attachment.VarifoldAttachment(2, [50., 300.]),\n",
    "     imodal.Attachment.EuclideanPointwiseDistanceAttachment(100.)],\n",
    "    lam=200., other_parameters={'abcd': {'params': [abcd]}},\n",
    "    precompute_callback=callback_compute_c)"
   ]
  },
  {
   "cell_type": "markdown",
   "metadata": {},
   "source": [
    "Fitting using Torch LBFGS optimizer.\n",
    "\n",
    "\n"
   ]
  },
  {
   "cell_type": "code",
   "execution_count": null,
   "metadata": {},
   "outputs": [],
   "source": [
    "shoot_solver = 'euler'\n",
    "shoot_it = 10\n",
    "\n",
    "costs = {}\n",
    "fitter = imodal.Models.Fitter(model, optimizer='torch_lbfgs')\n",
    "fitter.fit([deformable_shape_target, deformable_dots_target], 200, costs=costs, options={'shoot_solver': shoot_solver, 'shoot_it': shoot_it, 'line_search_fn': 'strong_wolfe'})"
   ]
  },
  {
   "cell_type": "markdown",
   "metadata": {},
   "source": [
    "Compute optimized deformation trajectory.\n",
    "\n",
    "\n"
   ]
  },
  {
   "cell_type": "code",
   "execution_count": null,
   "metadata": {},
   "outputs": [],
   "source": [
    "intermediates = {}\n",
    "with torch.autograd.no_grad():\n",
    "    deformed = model.compute_deformed(shoot_solver, shoot_it, intermediates=intermediates)\n",
    "    deformed_shape = deformed[0][0]\n",
    "    deformed_dots = deformed[1][0]\n",
    "deformed_growth = intermediates['states'][-1][3].gd[0]\n",
    "deformed_growth_rot = intermediates['states'][-1][3].gd[1]\n",
    "global_translation_controls = [control[2] for control in intermediates['controls']]\n",
    "growth_controls = [control[3] for control in intermediates['controls']]"
   ]
  },
  {
   "cell_type": "markdown",
   "metadata": {},
   "source": [
    "Plot results.\n",
    "\n",
    "\n"
   ]
  },
  {
   "cell_type": "code",
   "execution_count": null,
   "metadata": {},
   "outputs": [],
   "source": [
    "plt.subplot(1, 3, 1)\n",
    "plt.title(\"Source\")\n",
    "plt.plot(shape_source[:, 0].numpy(), shape_source[:, 1].numpy(), '-', color='black')\n",
    "plt.plot(dots_source[:, 0].numpy(), dots_source[:, 1].numpy(), '.', color='black')\n",
    "plt.axis('equal')\n",
    "\n",
    "plt.subplot(1, 3, 2)\n",
    "plt.title(\"Deformed source\")\n",
    "plt.plot(deformed_shape[:, 0], deformed_shape[:, 1], '-', color='blue')\n",
    "plt.plot(deformed_dots[:, 0], deformed_dots[:, 1], '.', color='blue')\n",
    "plt.axis('equal')\n",
    "\n",
    "plt.subplot(1, 3, 3)\n",
    "plt.title(\"Deformed source and target\")\n",
    "plt.plot(shape_target[:, 0].numpy(), shape_target[:, 1].numpy(), '-', color='red')\n",
    "plt.plot(dots_target[:, 0].numpy(), dots_target[:, 1].numpy(), '.', color='red')\n",
    "plt.plot(deformed_shape[:, 0], deformed_shape[:, 1], '-', color='blue')\n",
    "plt.plot(deformed_dots[:, 0], deformed_dots[:, 1], '.', color='blue')\n",
    "# plt.plot(deformed_growth[:, 0], deformed_growth[:, 1], '.', color='blue')\n",
    "plt.axis('equal')\n",
    "plt.show()"
   ]
  },
  {
   "cell_type": "markdown",
   "metadata": {},
   "source": [
    "Evaluate estimated growth model tensor.\n",
    "\n",
    "\n"
   ]
  },
  {
   "cell_type": "code",
   "execution_count": null,
   "metadata": {},
   "outputs": [],
   "source": [
    "learned_abcd = abcd.detach()\n",
    "learned_C = pol(model.init_manifold[3].gd[0].detach(),\n",
    "                learned_abcd[0].unsqueeze(1),\n",
    "                learned_abcd[1].unsqueeze(1),\n",
    "                learned_abcd[2].unsqueeze(1),\n",
    "                learned_abcd[3].unsqueeze(1)).transpose(0, 1).unsqueeze(2).detach()\n",
    "print(\"Learned growth model tensor parameters:\\n {}\".format(learned_abcd))"
   ]
  },
  {
   "cell_type": "markdown",
   "metadata": {},
   "source": [
    "Plot estimated growth factor.\n",
    "\n",
    "\n"
   ]
  },
  {
   "cell_type": "code",
   "execution_count": null,
   "metadata": {},
   "outputs": [],
   "source": [
    "ax = plt.subplot()\n",
    "plt.plot(shape_source[:, 0].numpy(), shape_source[:, 1].numpy(), '-')\n",
    "imodal.Utilities.plot_C_ellipses(ax, points_growth, learned_C, R=deformed_growth_rot, scale=1.)\n",
    "plt.axis(aabb_source.squared().totuple())\n",
    "plt.axis('equal')\n",
    "plt.show()"
   ]
  },
  {
   "cell_type": "markdown",
   "metadata": {},
   "source": [
    "Recompute the learned deformation trajectory this time with the grid\n",
    "deformation to visualize growth.\n",
    "\n",
    "\n"
   ]
  },
  {
   "cell_type": "code",
   "execution_count": null,
   "metadata": {},
   "outputs": [],
   "source": [
    "# We extract the modules of the models and fill the right manifolds.\n",
    "modules = imodal.DeformationModules.CompoundModule(copy.copy(model.modules))\n",
    "modules.manifold.fill(model.init_manifold.clone())\n",
    "silent_shape = copy.copy(modules[0])\n",
    "silent_dots = copy.copy(modules[1])\n",
    "global_translation = copy.copy(modules[2])\n",
    "growth = copy.copy(modules[3])\n",
    "\n",
    "# Define the deformation grid.\n",
    "square_size = 1.\n",
    "growth_grid_resolution = [math.floor(aabb_source.width/square_size),\n",
    "                          math.floor(aabb_source.height/square_size)]\n",
    "deformation_grid = imodal.DeformationModules.DeformationGrid(aabb_source, growth_grid_resolution)\n",
    "\n",
    "# We construct the controls we will give will shooting.\n",
    "controls = [[torch.tensor([]), torch.tensor([]), torch.tensor([]), global_translation_control, growth_control] for growth_control, global_translation_control in zip(growth_controls, global_translation_controls)]\n",
    "\n",
    "# Reshoot.\n",
    "intermediates_growth = {}\n",
    "with torch.autograd.no_grad():\n",
    "    imodal.HamiltonianDynamic.shoot(imodal.HamiltonianDynamic.Hamiltonian([silent_shape, silent_dots, deformation_grid, global_translation, growth]), shoot_solver, shoot_it, controls=controls, intermediates=intermediates_growth)\n",
    "\n",
    "# Store final deformation.\n",
    "shoot_deformed_shape = silent_shape.manifold.gd.detach()\n",
    "shoot_deformed_dots = silent_dots.manifold.gd.detach()\n",
    "shoot_deformed_grid = deformation_grid.togrid()"
   ]
  },
  {
   "cell_type": "markdown",
   "metadata": {},
   "source": [
    "Plot the deformation grid.\n",
    "\n",
    "\n"
   ]
  },
  {
   "cell_type": "code",
   "execution_count": null,
   "metadata": {},
   "outputs": [],
   "source": [
    "ax = plt.subplot()\n",
    "plt.plot(shape_source[:, 0].numpy(), shape_source[:, 1].numpy(), '--', color='black')\n",
    "plt.plot(dots_source[:, 0].numpy(), dots_source[:, 1].numpy(), '.', color='black')\n",
    "plt.plot(shape_target[:, 0].numpy(), shape_target[:, 1].numpy(), '.-', color='red')\n",
    "plt.plot(dots_target[:, 0].numpy(), dots_target[:, 1].numpy(), '.', color='black')\n",
    "plt.plot(shoot_deformed_shape[:, 0].numpy(), shoot_deformed_shape[:, 1].numpy())\n",
    "plt.plot(shoot_deformed_dots[:, 0].numpy(), shoot_deformed_dots[:, 1].numpy(), '.')\n",
    "imodal.Utilities.plot_grid(ax, shoot_deformed_grid[0], shoot_deformed_grid[1], color='xkcd:light blue', lw=0.4)\n",
    "plt.axis('equal')\n",
    "\n",
    "plt.show()"
   ]
  },
  {
   "cell_type": "markdown",
   "metadata": {},
   "source": [
    "## Perform curve registration using the previously learned growth factor\n",
    "\n",
    "\n"
   ]
  },
  {
   "cell_type": "markdown",
   "metadata": {},
   "source": [
    "Redefine deformation modules.\n",
    "\n",
    "\n"
   ]
  },
  {
   "cell_type": "code",
   "execution_count": null,
   "metadata": {},
   "outputs": [],
   "source": [
    "global_translation = imodal.DeformationModules.GlobalTranslation(2, coeff=coeff_global)\n",
    "\n",
    "growth = imodal.DeformationModules.ImplicitModule1(2, points_growth.shape[0], scale_growth, learned_C, coeff=coeff_growth, nu=nu, gd=(points_growth, rot_growth))\n",
    "\n",
    "small_scale_translation = imodal.DeformationModules.ImplicitModule0(2, shape_source.shape[0], scale_small, coeff=coeff_small, nu=nu, gd=shape_source)"
   ]
  },
  {
   "cell_type": "markdown",
   "metadata": {},
   "source": [
    "Redefine deformables and registration model.\n",
    "\n",
    "\n"
   ]
  },
  {
   "cell_type": "code",
   "execution_count": null,
   "metadata": {},
   "outputs": [],
   "source": [
    "deformable_shape_source = imodal.Models.DeformablePoints(shape_source)\n",
    "deformable_shape_target = imodal.Models.DeformablePoints(shape_target)\n",
    "\n",
    "refit_model = imodal.Models.RegistrationModel([deformable_shape_source],\n",
    "                [global_translation, growth, small_scale_translation],\n",
    "                [imodal.Attachment.VarifoldAttachment(2, [50., 300.])],\n",
    "                lam=100)"
   ]
  },
  {
   "cell_type": "markdown",
   "metadata": {},
   "source": [
    "Fitting using Torch LBFGS optimizer.\n",
    "\n",
    "\n"
   ]
  },
  {
   "cell_type": "code",
   "execution_count": null,
   "metadata": {},
   "outputs": [],
   "source": [
    "shoot_solver = 'euler'\n",
    "shoot_it = 10\n",
    "\n",
    "costs = {}\n",
    "fitter = imodal.Models.Fitter(refit_model, optimizer='torch_lbfgs')\n",
    "fitter.fit([deformable_shape_target], 200, costs=costs, options={'shoot_solver': shoot_solver, 'shoot_it': shoot_it, 'line_search_fn': 'strong_wolfe'})"
   ]
  },
  {
   "cell_type": "markdown",
   "metadata": {},
   "source": [
    "Compute optimized deformation trajectory.\n",
    "\n",
    "\n"
   ]
  },
  {
   "cell_type": "code",
   "execution_count": null,
   "metadata": {},
   "outputs": [],
   "source": [
    "intermediates = {}\n",
    "with torch.autograd.no_grad():\n",
    "    deformed = refit_model.compute_deformed(shoot_solver, shoot_it, intermediates=intermediates)\n",
    "    deformed_shape = deformed[0][0]\n",
    "deformed_growth = intermediates['states'][-1][2].gd[0]\n",
    "deformed_growth_rot = intermediates['states'][-1][2].gd[1]\n",
    "global_translation_controls = [control[1] for control in intermediates['controls']]\n",
    "growth_controls = [control[2] for control in intermediates['controls']]\n",
    "translation_controls = [control[3] for control in intermediates['controls']]"
   ]
  },
  {
   "cell_type": "markdown",
   "metadata": {},
   "source": [
    "Plot results.\n",
    "\n",
    "\n"
   ]
  },
  {
   "cell_type": "code",
   "execution_count": null,
   "metadata": {},
   "outputs": [],
   "source": [
    "plt.subplot(1, 3, 1)\n",
    "plt.title(\"Source\")\n",
    "plt.plot(shape_source[:, 0].numpy(), shape_source[:, 1].numpy(), '-', color='black')\n",
    "plt.axis('equal')\n",
    "\n",
    "plt.subplot(1, 3, 2)\n",
    "plt.title(\"Deformed source\")\n",
    "plt.plot(deformed_shape[:, 0], deformed_shape[:, 1], '-', color='blue')\n",
    "plt.axis('equal')\n",
    "\n",
    "plt.subplot(1, 3, 3)\n",
    "plt.title(\"Deformed source and target\")\n",
    "plt.plot(shape_target[:, 0].numpy(), shape_target[:, 1].numpy(), '-', color='red')\n",
    "plt.plot(deformed_shape[:, 0], deformed_shape[:, 1], '-', color='blue')\n",
    "plt.axis('equal')\n",
    "\n",
    "plt.show()"
   ]
  },
  {
   "cell_type": "markdown",
   "metadata": {},
   "source": [
    "Recompute the learned deformation trajectory this time with the grid\n",
    "deformation to visualize growth.\n",
    "\n",
    "\n"
   ]
  },
  {
   "cell_type": "code",
   "execution_count": null,
   "metadata": {},
   "outputs": [],
   "source": [
    "modules = imodal.DeformationModules.CompoundModule(copy.copy(refit_model.modules))\n",
    "modules.manifold.fill(refit_model.init_manifold)\n",
    "\n",
    "square_size = 1\n",
    "grid_resolution = [math.floor(aabb_source.width/square_size),\n",
    "                   math.floor(aabb_source.height/square_size)]\n",
    "deformation_grid = imodal.DeformationModules.DeformationGrid(aabb_source, growth_grid_resolution)\n",
    "\n",
    "controls = [control[1:] for control in intermediates['controls']]\n",
    "\n",
    "deformable_shape = imodal.Models.DeformablePoints(shape_source)\n",
    "deformable_shape.silent_module.manifold.cotan = refit_model.init_manifold[0].cotan\n",
    "deformable_grid = imodal.Models.DeformableGrid(aabb_source, grid_resolution)\n",
    "\n",
    "intermediates = {}\n",
    "with torch.autograd.no_grad():\n",
    "    imodal.Models.deformables_compute_deformed([deformable_shape, deformable_grid], modules[1:], shoot_solver, shoot_it, intermediates=intermediates, controls=controls)"
   ]
  },
  {
   "cell_type": "markdown",
   "metadata": {},
   "source": [
    "Plot the growth trajectory.\n",
    "\n",
    "\n"
   ]
  },
  {
   "cell_type": "code",
   "execution_count": null,
   "metadata": {},
   "outputs": [],
   "source": [
    "indices = [0, 3, 7, 10]\n",
    "\n",
    "fig = plt.figure(figsize=[5.*len(indices), 5.])\n",
    "for i, index in enumerate(indices):\n",
    "    state = intermediates['states'][index]\n",
    "\n",
    "    ax = plt.subplot(1, len(indices), i + 1)\n",
    "    deformable_grid.silent_module.manifold.fill_gd(state[1].gd)\n",
    "    grid_x, grid_y = deformable_grid.silent_module.togrid()\n",
    "    imodal.Utilities.plot_grid(ax, grid_x, grid_y, color='xkcd:light blue', lw=0.4)\n",
    "\n",
    "    plt.plot(shape_source[:, 0].numpy(), shape_source[:, 1].numpy(), color='black')\n",
    "    plt.plot(shape_target[:, 0].numpy(), shape_target[:, 1].numpy(), color='red')\n",
    "    plt.plot(state[0].gd[:, 0].numpy(), state[0].gd[:, 1].numpy())\n",
    "\n",
    "    plt.axis('equal')\n",
    "    plt.axis('off')\n",
    "\n",
    "fig.tight_layout()\n",
    "plt.show()"
   ]
  }
 ],
 "metadata": {
  "kernelspec": {
   "display_name": "Python 3",
   "language": "python",
   "name": "python3"
  },
  "language_info": {
   "codemirror_mode": {
    "name": "ipython",
    "version": 3
   },
   "file_extension": ".py",
   "mimetype": "text/x-python",
   "name": "python",
   "nbconvert_exporter": "python",
   "pygments_lexer": "ipython3",
   "version": "3.6.9"
  }
 },
 "nbformat": 4,
 "nbformat_minor": 1
}
