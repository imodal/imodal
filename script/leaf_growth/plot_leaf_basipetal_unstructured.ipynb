{
 "cells": [
  {
   "cell_type": "code",
   "execution_count": null,
   "metadata": {},
   "outputs": [],
   "source": [
    "%matplotlib inline"
   ]
  },
  {
   "cell_type": "markdown",
   "metadata": {},
   "source": [
    "\n",
    "# Unstructured Deformations to Model Basipetal Growth\n",
    "\n",
    "\n"
   ]
  },
  {
   "cell_type": "markdown",
   "metadata": {},
   "source": [
    "Import relevant Python modules.\n",
    "\n",
    "\n"
   ]
  },
  {
   "cell_type": "code",
   "execution_count": null,
   "metadata": {},
   "outputs": [],
   "source": [
    "import sys\n",
    "sys.path.append(\"../../\")\n",
    "import math\n",
    "import copy\n",
    "import pickle\n",
    "\n",
    "import torch\n",
    "\n",
    "import matplotlib.pyplot as plt\n",
    "\n",
    "import imodal\n",
    "\n",
    "imodal.Utilities.set_compute_backend('torch')\n",
    "torch.set_default_dtype(torch.float32)"
   ]
  },
  {
   "cell_type": "markdown",
   "metadata": {},
   "source": [
    "We load the data\n",
    "\n",
    "\n"
   ]
  },
  {
   "cell_type": "code",
   "execution_count": null,
   "metadata": {},
   "outputs": [],
   "source": [
    "with open(\"../../data/basipetal.pickle\", 'rb') as f:\n",
    "    data = pickle.load(f)\n",
    "\n",
    "shape_source = torch.tensor(data['shape_source']).type(torch.get_default_dtype())\n",
    "shape_target = torch.tensor(data['shape_target']).type(torch.get_default_dtype())\n",
    "dots_source = torch.tensor(data['dots_source'], dtype=torch.get_default_dtype())\n",
    "dots_target = torch.tensor(data['dots_target'], dtype=torch.get_default_dtype())\n",
    "\n",
    "\n",
    "aabb_source = imodal.Utilities.AABB.build_from_points(shape_source)\n",
    "aabb_target = imodal.Utilities.AABB.build_from_points(shape_target)"
   ]
  },
  {
   "cell_type": "markdown",
   "metadata": {},
   "source": [
    "## Unstructured growth using the curve information\n",
    "\n",
    "### Intitialization\n",
    "\n",
    "Plot source and target.\n",
    "\n",
    "\n"
   ]
  },
  {
   "cell_type": "code",
   "execution_count": null,
   "metadata": {},
   "outputs": [],
   "source": [
    "plt.title(\"Source and target\")\n",
    "plt.plot(shape_source[:, 0].numpy(), shape_source[:, 1].numpy(), color='black')\n",
    "plt.plot(shape_target[:, 0].numpy(), shape_target[:, 1].numpy(), color='red')\n",
    "\n",
    "plt.axis('equal')\n",
    "plt.show()"
   ]
  },
  {
   "cell_type": "markdown",
   "metadata": {},
   "source": [
    "We now sample the points that will be used by the local translations module for unstructured growth.\n",
    "\n",
    "\n"
   ]
  },
  {
   "cell_type": "code",
   "execution_count": null,
   "metadata": {},
   "outputs": [],
   "source": [
    "# Build AABB (Axis Aligned Bounding Box) around the source shape and uniformly\n",
    "# sample points for the growth module.\n",
    "\n",
    "\n",
    "points_density = 0.05\n",
    "\n",
    "points_translations = imodal.Utilities.fill_area_uniform_density(imodal.Utilities.area_shape, aabb_source.scale(1.3), points_density, shape=1.3*shape_source)"
   ]
  },
  {
   "cell_type": "markdown",
   "metadata": {},
   "source": [
    "Plot points of the local translations module.\n",
    "\n",
    "\n"
   ]
  },
  {
   "cell_type": "code",
   "execution_count": null,
   "metadata": {},
   "outputs": [],
   "source": [
    "plt.plot(shape_source[:, 0].numpy(), shape_source[:, 1].numpy(), color='black')\n",
    "plt.plot(points_translations[:, 0].numpy(), points_translations[:, 1].numpy(), 'o', color='blue')\n",
    "plt.axis('equal')\n",
    "plt.show()"
   ]
  },
  {
   "cell_type": "markdown",
   "metadata": {},
   "source": [
    "Create the deformation model which only consists of one Translations deformation module.\n",
    "\n",
    "\n"
   ]
  },
  {
   "cell_type": "markdown",
   "metadata": {},
   "source": [
    "Create and initialize local translations module.\n",
    "\n",
    "\n"
   ]
  },
  {
   "cell_type": "code",
   "execution_count": null,
   "metadata": {},
   "outputs": [],
   "source": [
    "sigma = 3./points_density**(1/2)\n",
    "translations = imodal.DeformationModules.Translations(2, points_translations.shape[0], sigma, gd=points_translations)"
   ]
  },
  {
   "cell_type": "markdown",
   "metadata": {},
   "source": [
    "Define deformables used by the registration model.\n",
    "\n",
    "\n"
   ]
  },
  {
   "cell_type": "code",
   "execution_count": null,
   "metadata": {},
   "outputs": [],
   "source": [
    "deformable_shape_source = imodal.Models.DeformablePoints(shape_source)\n",
    "deformable_shape_target = imodal.Models.DeformablePoints(shape_target)"
   ]
  },
  {
   "cell_type": "markdown",
   "metadata": {},
   "source": [
    "### Registration\n",
    "\n",
    "Define the registration model.\n",
    "\n",
    "\n"
   ]
  },
  {
   "cell_type": "code",
   "execution_count": null,
   "metadata": {},
   "outputs": [],
   "source": [
    "model = imodal.Models.RegistrationModel(\n",
    "    [deformable_shape_source],\n",
    "    [translations],\n",
    "    [imodal.Attachment.VarifoldAttachment(2, [20., 120.])],\n",
    "    lam=10.)"
   ]
  },
  {
   "cell_type": "markdown",
   "metadata": {},
   "source": [
    "Fitting using Torch LBFGS optimizer.\n",
    "\n",
    "\n"
   ]
  },
  {
   "cell_type": "code",
   "execution_count": null,
   "metadata": {},
   "outputs": [],
   "source": [
    "shoot_solver = 'euler'\n",
    "shoot_it = 10\n",
    "\n",
    "costs = {}\n",
    "fitter = imodal.Models.Fitter(model, optimizer='torch_lbfgs')\n",
    "fitter.fit([deformable_shape_target], 2, costs=costs, options={'shoot_solver': shoot_solver, 'shoot_it': shoot_it, 'line_search_fn': 'strong_wolfe'})"
   ]
  },
  {
   "cell_type": "markdown",
   "metadata": {},
   "source": [
    "### Results visualization\n",
    "\n",
    "Compute optimized deformation trajectory.\n",
    "\n",
    "\n"
   ]
  },
  {
   "cell_type": "code",
   "execution_count": null,
   "metadata": {},
   "outputs": [],
   "source": [
    "intermediates = {}\n",
    "with torch.autograd.no_grad():\n",
    "    deformed = model.compute_deformed(shoot_solver, shoot_it, intermediates=intermediates)\n",
    "    deformed_shape = deformed[0][0]\n",
    "\n",
    "translations_controls = [control[1] for control in intermediates['controls']]"
   ]
  },
  {
   "cell_type": "markdown",
   "metadata": {},
   "source": [
    "Plot results.\n",
    "\n",
    "\n"
   ]
  },
  {
   "cell_type": "code",
   "execution_count": null,
   "metadata": {},
   "outputs": [],
   "source": [
    "plt.subplot(1, 3, 1)\n",
    "plt.title(\"Source\")\n",
    "plt.plot(shape_source[:, 0].numpy(), shape_source[:, 1].numpy(), '-', color='black')\n",
    "plt.axis(aabb_target.totuple())\n",
    "plt.axis('equal')\n",
    "\n",
    "plt.subplot(1, 3, 2)\n",
    "plt.title(\"Deformed source\")\n",
    "plt.plot(deformed_shape[:, 0], deformed_shape[:, 1], '-', color='blue')\n",
    "plt.axis(aabb_target.totuple())\n",
    "plt.axis('equal')\n",
    "\n",
    "plt.subplot(1, 3, 3)\n",
    "plt.title(\"Deformed source and target\")\n",
    "plt.plot(shape_target[:, 0].numpy(), shape_target[:, 1].numpy(), '-', color='red')\n",
    "plt.plot(deformed_shape[:, 0], deformed_shape[:, 1], '-', color='blue')\n",
    "plt.axis(aabb_target.totuple())\n",
    "plt.axis('equal')\n",
    "\n",
    "plt.tight_layout()\n",
    "plt.show()"
   ]
  },
  {
   "cell_type": "markdown",
   "metadata": {},
   "source": [
    "Recompute the learned deformation trajectory this time with the grid\n",
    "deformation to visualize growth.\n",
    "\n",
    "\n"
   ]
  },
  {
   "cell_type": "code",
   "execution_count": null,
   "metadata": {},
   "outputs": [],
   "source": [
    "# Reset the local translations module with the learned initialization manifold.\n",
    "translations.manifold.fill(model.init_manifold[1])\n",
    "\n",
    "aabb_source.scale_(1.2)\n",
    "# Define the deformation grid.\n",
    "square_size = 1.\n",
    "grid_resolution = [math.floor(aabb_source.width/square_size),\n",
    "                   math.floor(aabb_source.height/square_size)]\n",
    "\n",
    "deformable_source = imodal.Models.DeformablePoints(shape_source)\n",
    "deformable_grid = imodal.Models.DeformableGrid(aabb_source, grid_resolution)\n",
    "deformable_source.silent_module.manifold.fill_cotan(model.init_manifold[0].cotan)\n",
    "\n",
    "controls = [[control[1]] for control in intermediates['controls']]\n",
    "\n",
    "# Shoot.\n",
    "intermediates = {}\n",
    "with torch.autograd.no_grad():\n",
    "    imodal.Models.deformables_compute_deformed([deformable_source, deformable_grid], [translations], shoot_solver, shoot_it, controls=controls, intermediates=intermediates)"
   ]
  },
  {
   "cell_type": "markdown",
   "metadata": {},
   "source": [
    "Plot the growth trajectory.\n",
    "\n",
    "\n"
   ]
  },
  {
   "cell_type": "code",
   "execution_count": null,
   "metadata": {},
   "outputs": [],
   "source": [
    "indices = [0, 3, 7, 10]\n",
    "\n",
    "plt.figure(figsize=[10.*len(indices), 10.])\n",
    "for i, index in enumerate(indices):\n",
    "    state = intermediates['states'][index]\n",
    "    ax = plt.subplot(1, len(indices), i + 1)\n",
    "    deformable_grid.silent_module.manifold.fill_gd(state[1].gd)\n",
    "    grid_x, grid_y = deformable_grid.silent_module.togrid()\n",
    "    imodal.Utilities.plot_grid(ax, grid_x, grid_y, color='xkcd:light blue', lw=0.4)\n",
    "\n",
    "    plt.plot(shape_source[:, 0].numpy(), shape_source[:, 1].numpy(), color='black')\n",
    "    plt.plot(shape_target[:, 0].numpy(), shape_target[:, 1].numpy(), color='red')\n",
    "    plt.plot(state[0].gd[:, 0].numpy(), state[0].gd[:, 1].numpy())\n",
    "\n",
    "    plt.axis('equal')\n",
    "    plt.axis('off')\n",
    "\n",
    "plt.tight_layout()\n",
    "plt.show()"
   ]
  },
  {
   "cell_type": "markdown",
   "metadata": {},
   "source": [
    "## Unstructured growth model using curve and dots informations\n",
    "\n",
    "### Initialization\n",
    "\n",
    "Plot source and target.\n",
    "\n",
    "\n"
   ]
  },
  {
   "cell_type": "code",
   "execution_count": null,
   "metadata": {},
   "outputs": [],
   "source": [
    "plt.title(\"Source and target\")\n",
    "plt.plot(shape_source[:, 0].numpy(), shape_source[:, 1].numpy(), color='black')\n",
    "plt.plot(dots_source[:, 0].numpy(), dots_source[:, 1].numpy(), '.', color='black')\n",
    "plt.plot(shape_target[:, 0].numpy(), shape_target[:, 1].numpy(), color='red')\n",
    "plt.plot(dots_target[:, 0].numpy(), dots_target[:, 1].numpy(), '.', color='red')\n",
    "\n",
    "plt.axis('equal')\n",
    "plt.show()"
   ]
  },
  {
   "cell_type": "markdown",
   "metadata": {},
   "source": [
    "We now sample the points that will be used by the local translations module.\n",
    "\n",
    "\n"
   ]
  },
  {
   "cell_type": "code",
   "execution_count": null,
   "metadata": {},
   "outputs": [],
   "source": [
    "# Build AABB (Axis Aligned Bounding Box) around the source shape and uniformly\n",
    "# sample points for the growth module.\n",
    "points_density = 0.05\n",
    "\n",
    "aabb_source = imodal.Utilities.AABB.build_from_points(shape_source)\n",
    "\n",
    "points_translations = imodal.Utilities.fill_area_uniform_density(imodal.Utilities.area_shape, aabb_source.scale(1.3), points_density, shape=1.3*shape_source)"
   ]
  },
  {
   "cell_type": "markdown",
   "metadata": {},
   "source": [
    "Plot geometrical descriptor of the local translations module.\n",
    "\n",
    "\n"
   ]
  },
  {
   "cell_type": "code",
   "execution_count": null,
   "metadata": {},
   "outputs": [],
   "source": [
    "plt.plot(shape_source[:, 0].numpy(), shape_source[:, 1].numpy(), color='black')\n",
    "plt.plot(points_translations[:, 0].numpy(), points_translations[:, 1].numpy(), 'o', color='blue')\n",
    "plt.axis('equal')\n",
    "plt.show()"
   ]
  },
  {
   "cell_type": "markdown",
   "metadata": {},
   "source": [
    "Create and initialize local translations module.\n",
    "\n",
    "\n"
   ]
  },
  {
   "cell_type": "code",
   "execution_count": null,
   "metadata": {},
   "outputs": [],
   "source": [
    "sigma = 3./points_density**(1/2)\n",
    "translations = imodal.DeformationModules.Translations(2, points_translations.shape[0], sigma, gd=points_translations)"
   ]
  },
  {
   "cell_type": "markdown",
   "metadata": {},
   "source": [
    "Define deformables used by the registration model.\n",
    "\n",
    "\n"
   ]
  },
  {
   "cell_type": "code",
   "execution_count": null,
   "metadata": {},
   "outputs": [],
   "source": [
    "deformable_shape_source = imodal.Models.DeformablePoints(shape_source)\n",
    "deformable_shape_target = imodal.Models.DeformablePoints(shape_target)\n",
    "deformable_dots_source = imodal.Models.DeformablePoints(dots_source)\n",
    "deformable_dots_target = imodal.Models.DeformablePoints(dots_target)"
   ]
  },
  {
   "cell_type": "markdown",
   "metadata": {},
   "source": [
    "### Registration\n",
    "\n",
    "Define the registration model.\n",
    "\n",
    "\n"
   ]
  },
  {
   "cell_type": "code",
   "execution_count": null,
   "metadata": {},
   "outputs": [],
   "source": [
    "model = imodal.Models.RegistrationModel(\n",
    "    [deformable_shape_source, deformable_dots_source],\n",
    "    [translations],\n",
    "    [imodal.Attachment.VarifoldAttachment(2, [20, 120.]),\n",
    "     imodal.Attachment.EuclideanPointwiseDistanceAttachment(10.)],\n",
    "    lam=10.)"
   ]
  },
  {
   "cell_type": "markdown",
   "metadata": {},
   "source": [
    "Fitting using Torch LBFGS optimizer.\n",
    "\n",
    "\n"
   ]
  },
  {
   "cell_type": "code",
   "execution_count": null,
   "metadata": {},
   "outputs": [],
   "source": [
    "shoot_solver = 'euler'\n",
    "shoot_it = 10\n",
    "\n",
    "costs = {}\n",
    "fitter = imodal.Models.Fitter(model, optimizer='torch_lbfgs')\n",
    "fitter.fit([deformable_shape_target, deformable_dots_target], 50, costs=costs, options={'shoot_solver': shoot_solver, 'shoot_it': shoot_it, 'line_search_fn': 'strong_wolfe'})"
   ]
  },
  {
   "cell_type": "markdown",
   "metadata": {},
   "source": [
    "### Result visualization\n",
    "\n",
    "Compute optimized deformation trajectory.\n",
    "\n",
    "\n"
   ]
  },
  {
   "cell_type": "code",
   "execution_count": null,
   "metadata": {},
   "outputs": [],
   "source": [
    "intermediates = {}\n",
    "with torch.autograd.no_grad():\n",
    "    deformed = model.compute_deformed(shoot_solver, shoot_it, intermediates=intermediates)\n",
    "    deformed_shape = deformed[0][0]\n",
    "    deformed_dots = deformed[1][0]"
   ]
  },
  {
   "cell_type": "markdown",
   "metadata": {},
   "source": [
    "Plot results.\n",
    "\n",
    "\n"
   ]
  },
  {
   "cell_type": "code",
   "execution_count": null,
   "metadata": {},
   "outputs": [],
   "source": [
    "plt.subplot(1, 3, 1)\n",
    "plt.title(\"Source\")\n",
    "plt.plot(shape_source[:, 0].numpy(), shape_source[:, 1].numpy(), '-', color='black')\n",
    "plt.plot(dots_source[:, 0].numpy(), dots_source[:, 1].numpy(), '.', color='black')\n",
    "plt.axis('equal')\n",
    "\n",
    "plt.subplot(1, 3, 2)\n",
    "plt.title(\"Deformed source\")\n",
    "plt.plot(deformed_shape[:, 0], deformed_shape[:, 1], '-', color='blue')\n",
    "plt.plot(deformed_dots[:, 0], deformed_dots[:, 1], '.', color='blue')\n",
    "plt.axis('equal')\n",
    "\n",
    "plt.subplot(1, 3, 3)\n",
    "plt.title(\"Deformed source and target\")\n",
    "plt.plot(shape_target[:, 0].numpy(), shape_target[:, 1].numpy(), '-', color='red')\n",
    "plt.plot(dots_target[:, 0].numpy(), dots_target[:, 1].numpy(), '.', color='red')\n",
    "plt.plot(deformed_shape[:, 0], deformed_shape[:, 1], '-', color='blue')\n",
    "plt.plot(deformed_dots[:, 0], deformed_dots[:, 1], '.', color='blue')\n",
    "plt.axis('equal')\n",
    "\n",
    "plt.tight_layout()\n",
    "plt.show()"
   ]
  },
  {
   "cell_type": "markdown",
   "metadata": {},
   "source": [
    "Recompute the learned deformation trajectory this time with the grid\n",
    "deformation to visualize growth.\n",
    "\n",
    "\n"
   ]
  },
  {
   "cell_type": "code",
   "execution_count": null,
   "metadata": {},
   "outputs": [],
   "source": [
    "# Reset the local translations module with the learned initialization manifold.\n",
    "translations.manifold.fill(model.init_manifold[2])\n",
    "\n",
    "aabb_source.scale_(1.2)\n",
    "# Define the deformation grid.\n",
    "square_size = 1.\n",
    "grid_resolution = [math.floor(aabb_source.width/square_size),\n",
    "                   math.floor(aabb_source.height/square_size)]\n",
    "\n",
    "deformable_source = imodal.Models.DeformablePoints(shape_source)\n",
    "deformable_dots_source = imodal.Models.DeformablePoints(dots_source)\n",
    "deformable_grid = imodal.Models.DeformableGrid(aabb_source, grid_resolution)\n",
    "\n",
    "deformable_source.silent_module.manifold.fill_cotan(model.init_manifold[0].cotan)\n",
    "deformable_dots_source.silent_module.manifold.fill_cotan(model.init_manifold[1].cotan)\n",
    "\n",
    "controls = [[control[2]] for control in intermediates['controls']]\n",
    "\n",
    "# Shoot.\n",
    "intermediates = {}\n",
    "with torch.autograd.no_grad():\n",
    "    imodal.Models.deformables_compute_deformed([deformable_source, deformable_dots_source, deformable_grid], [translations], shoot_solver, shoot_it, controls=controls, intermediates=intermediates)"
   ]
  },
  {
   "cell_type": "markdown",
   "metadata": {},
   "source": [
    "Plot the growth trajectory.\n",
    "\n",
    "\n"
   ]
  },
  {
   "cell_type": "code",
   "execution_count": null,
   "metadata": {},
   "outputs": [],
   "source": [
    "indices = [0, 3, 7, 10]\n",
    "\n",
    "plt.figure(figsize=[10.*len(indices), 10.])\n",
    "for i, index in enumerate(indices):\n",
    "    state = intermediates['states'][index]\n",
    "    ax = plt.subplot(1, len(indices), i + 1)\n",
    "\n",
    "    deformable_grid.silent_module.manifold.fill_gd(state[2].gd)\n",
    "    grid_x, grid_y = deformable_grid.silent_module.togrid()\n",
    "    imodal.Utilities.plot_grid(ax, grid_x, grid_y, color='xkcd:light blue', lw=0.4)\n",
    "\n",
    "    plt.plot(shape_source[:, 0].numpy(), shape_source[:, 1].numpy(), color='black')\n",
    "    plt.plot(shape_target[:, 0].numpy(), shape_target[:, 1].numpy(), color='red')\n",
    "    plt.plot(state[0].gd[:, 0].numpy(), state[0].gd[:, 1].numpy(), color='blue')\n",
    "    plt.plot(state[1].gd[:, 0].numpy(), state[1].gd[:, 1].numpy(), '.', color='blue')\n",
    "\n",
    "    plt.axis('equal')\n",
    "    plt.axis('off')\n",
    "\n",
    "plt.tight_layout()\n",
    "plt.show()"
   ]
  }
 ],
 "metadata": {
  "kernelspec": {
   "display_name": "Python 3",
   "language": "python",
   "name": "python3"
  },
  "language_info": {
   "codemirror_mode": {
    "name": "ipython",
    "version": 3
   },
   "file_extension": ".py",
   "mimetype": "text/x-python",
   "name": "python",
   "nbconvert_exporter": "python",
   "pygments_lexer": "ipython3",
   "version": "3.6.9"
  }
 },
 "nbformat": 4,
 "nbformat_minor": 1
}
