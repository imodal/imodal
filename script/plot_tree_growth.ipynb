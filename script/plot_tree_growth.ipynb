{
 "cells": [
  {
   "cell_type": "code",
   "execution_count": null,
   "metadata": {},
   "outputs": [],
   "source": [
    "%matplotlib inline"
   ]
  },
  {
   "cell_type": "markdown",
   "metadata": {},
   "source": [
    "\n",
    "# Analyzing Differences Between Tree Images\n",
    "\n",
    "Image registration with an implicit module of order 1. Segmentations given by the data are used to initialize its points.\n",
    "\n"
   ]
  },
  {
   "cell_type": "markdown",
   "metadata": {},
   "source": [
    "## Initialization\n",
    "\n",
    "Import relevant Python modules.\n",
    "\n",
    "\n"
   ]
  },
  {
   "cell_type": "code",
   "execution_count": null,
   "metadata": {},
   "outputs": [],
   "source": [
    "import time\n",
    "import pickle\n",
    "import sys\n",
    "sys.path.append(\"../\")\n",
    "\n",
    "import matplotlib.pyplot as plt\n",
    "import torch\n",
    "\n",
    "import imodal\n",
    "\n",
    "\n",
    "device = 'cuda:1'\n",
    "torch.set_default_dtype(torch.float64)\n",
    "imodal.Utilities.set_compute_backend('keops')"
   ]
  },
  {
   "cell_type": "markdown",
   "metadata": {},
   "source": [
    "Load source and target images, along with the source curve.\n",
    "\n",
    "\n"
   ]
  },
  {
   "cell_type": "code",
   "execution_count": null,
   "metadata": {},
   "outputs": [],
   "source": [
    "with open(\"../data/tree_growth.pickle\", 'rb') as f:\n",
    "    data = pickle.load(f)\n",
    "\n",
    "source_shape = data['source_shape'].to(torch.get_default_dtype())\n",
    "source_image = data['source_image'].to(torch.get_default_dtype())\n",
    "target_image = data['target_image'].to(torch.get_default_dtype())\n",
    "\n",
    "# Segmentations as Axis Aligned Bounding Boxes (AABB)\n",
    "aabb_trunk = data['aabb_trunk']\n",
    "aabb_crown = data['aabb_leaves']\n",
    "extent = data['extent']"
   ]
  },
  {
   "cell_type": "markdown",
   "metadata": {},
   "source": [
    "Display source and target images, along with the segmented source curve (orange\n",
    "for the trunk, green for the crown).\n",
    "\n",
    "\n"
   ]
  },
  {
   "cell_type": "code",
   "execution_count": null,
   "metadata": {},
   "outputs": [],
   "source": [
    "shape_is_trunk = aabb_trunk.is_inside(source_shape)\n",
    "shape_is_crown = aabb_crown.is_inside(source_shape)\n",
    "\n",
    "plt.subplot(1, 2, 1)\n",
    "plt.title(\"Source\")\n",
    "plt.imshow(source_image, cmap='gray', origin='lower', extent=extent.totuple())\n",
    "plt.plot(source_shape[shape_is_trunk, 0].numpy(), source_shape[shape_is_trunk, 1].numpy(), lw=2., color='orange')\n",
    "plt.plot(source_shape[shape_is_crown, 0].numpy(), source_shape[shape_is_crown, 1].numpy(), lw=2., color='green')\n",
    "plt.axis('off')\n",
    "\n",
    "plt.subplot(1, 2, 2)\n",
    "plt.title(\"Target\")\n",
    "plt.imshow(target_image, cmap='gray', origin='lower', extent=extent.totuple())\n",
    "plt.axis('off')\n",
    "plt.show()"
   ]
  },
  {
   "cell_type": "markdown",
   "metadata": {},
   "source": [
    "Generating implicit modules of order 1 points and growth model tensor.\n",
    "\n",
    "\n"
   ]
  },
  {
   "cell_type": "code",
   "execution_count": null,
   "metadata": {},
   "outputs": [],
   "source": [
    "implicit1_density = 500.\n",
    "\n",
    "# Lambda function defining the area in and around the tree shape\n",
    "area = lambda x, **kwargs: imodal.Utilities.area_shape(x, **kwargs) | imodal.Utilities.area_polyline_outline(x, **kwargs)\n",
    "polyline_width = 0.07\n",
    "\n",
    "# Generation of the points of the initial geometrical descriptor\n",
    "implicit1_points = imodal.Utilities.fill_area_uniform_density(area, imodal.Utilities.AABB(xmin=0., xmax=1., ymin=0., ymax=1.), implicit1_density, shape=source_shape, polyline=source_shape, width=polyline_width)\n",
    "\n",
    "# Masks that flag points into either the trunk or the crown\n",
    "implicit1_trunk_points = aabb_trunk.is_inside(implicit1_points)\n",
    "implicit1_crown_points = aabb_crown.is_inside(implicit1_points)\n",
    "\n",
    "implicit1_points = implicit1_points[implicit1_trunk_points | implicit1_crown_points]\n",
    "implicit1_trunk_points = aabb_trunk.is_inside(implicit1_points)\n",
    "implicit1_crown_points = aabb_crown.is_inside(implicit1_points)\n",
    "\n",
    "assert implicit1_points[implicit1_trunk_points].shape[0] + implicit1_points[implicit1_crown_points].shape[0] == implicit1_points.shape[0]\n",
    "\n",
    "# Initial normal frames\n",
    "implicit1_r = torch.eye(2).repeat(implicit1_points.shape[0], 1, 1)\n",
    "\n",
    "# Growth model tensor\n",
    "implicit1_c = torch.zeros(implicit1_points.shape[0], 2, 4)\n",
    "\n",
    "# Horizontal stretching for the trunk\n",
    "implicit1_c[implicit1_trunk_points, 0, 0] = 1.\n",
    "# Vertical stretching for the trunk\n",
    "implicit1_c[implicit1_trunk_points, 1, 1] = 1.\n",
    "# Horizontal stretching for the crown\n",
    "implicit1_c[implicit1_crown_points, 0, 2] = 1.\n",
    "# Vertical stretching for the crown\n",
    "implicit1_c[implicit1_crown_points, 1, 3] = 1."
   ]
  },
  {
   "cell_type": "markdown",
   "metadata": {},
   "source": [
    "Plot the 4 dimensional growth model tensor.\n",
    "\n",
    "\n"
   ]
  },
  {
   "cell_type": "code",
   "execution_count": null,
   "metadata": {},
   "outputs": [],
   "source": [
    "plt.figure(figsize=[20., 5.])\n",
    "for i in range(4):\n",
    "    ax = plt.subplot(1, 4, i + 1)\n",
    "    plt.imshow(source_image, origin='lower', extent=extent, cmap='gray')\n",
    "    imodal.Utilities.plot_C_ellipses(ax, implicit1_points, implicit1_c, c_index=i, color='blue', scale=0.03)\n",
    "    plt.xlim(0., 1.)\n",
    "    plt.ylim(0., 1.)\n",
    "    plt.axis('off')\n",
    "\n",
    "plt.show()"
   ]
  },
  {
   "cell_type": "markdown",
   "metadata": {},
   "source": [
    "Create the deformation model with a combination of 2 modules : a global translation and the implicit module of order 1.\n",
    "\n",
    "\n"
   ]
  },
  {
   "cell_type": "markdown",
   "metadata": {},
   "source": [
    "Create and initialize the global translation module **global_translation**.\n",
    "\n",
    "\n"
   ]
  },
  {
   "cell_type": "code",
   "execution_count": null,
   "metadata": {},
   "outputs": [],
   "source": [
    "global_translation_coeff = 1.\n",
    "global_translation = imodal.DeformationModules.GlobalTranslation(2, coeff=global_translation_coeff)"
   ]
  },
  {
   "cell_type": "markdown",
   "metadata": {},
   "source": [
    "Create and initialize the implicit module of order 1 **implicit1**.\n",
    "\n",
    "\n"
   ]
  },
  {
   "cell_type": "code",
   "execution_count": null,
   "metadata": {},
   "outputs": [],
   "source": [
    "sigma1 = 2./implicit1_density**(1/2)\n",
    "implicit1_coeff = 0.1\n",
    "implicit1_nu = 100.\n",
    "implicit1 = imodal.DeformationModules.ImplicitModule1(2, implicit1_points.shape[0], sigma1, implicit1_c, nu=implicit1_nu, gd=(implicit1_points, implicit1_r), coeff=implicit1_coeff)\n",
    "implicit1.eps = 1e-2"
   ]
  },
  {
   "cell_type": "markdown",
   "metadata": {},
   "source": [
    "Define deformables used by the registration model.\n",
    "\n",
    "\n"
   ]
  },
  {
   "cell_type": "code",
   "execution_count": null,
   "metadata": {},
   "outputs": [],
   "source": [
    "source_image_deformable = imodal.Models.DeformableImage(source_image, output='bitmap', extent=extent)\n",
    "target_image_deformable = imodal.Models.DeformableImage(target_image, output='bitmap', extent=extent)\n",
    "\n",
    "source_image_deformable.to_device(device)\n",
    "target_image_deformable.to_device(device)"
   ]
  },
  {
   "cell_type": "markdown",
   "metadata": {},
   "source": [
    "## Registration\n",
    "Define the registration model.\n",
    "\n",
    "\n"
   ]
  },
  {
   "cell_type": "code",
   "execution_count": null,
   "metadata": {},
   "outputs": [],
   "source": [
    "attachment_image = imodal.Attachment.L2NormAttachment(weight=1e0)\n",
    "\n",
    "model = imodal.Models.RegistrationModel([source_image_deformable], [implicit1, global_translation], [attachment_image], lam=1.)\n",
    "model.to_device(device)"
   ]
  },
  {
   "cell_type": "markdown",
   "metadata": {},
   "source": [
    "Fitting using Torch LBFGS optimizer.\n",
    "\n",
    "\n"
   ]
  },
  {
   "cell_type": "code",
   "execution_count": null,
   "metadata": {},
   "outputs": [],
   "source": [
    "shoot_solver = 'rk4'\n",
    "shoot_it = 10\n",
    "\n",
    "costs = {}\n",
    "fitter = imodal.Models.Fitter(model, optimizer='torch_lbfgs')\n",
    "fitter.fit([target_image_deformable], 500, costs=costs, options={'shoot_solver': shoot_solver, 'shoot_it': shoot_it, 'line_search_fn': 'strong_wolfe', 'history_size': 500})"
   ]
  },
  {
   "cell_type": "markdown",
   "metadata": {},
   "source": [
    "## Visualization\n",
    "Compute optimized deformation trajectory.\n",
    "\n",
    "\n"
   ]
  },
  {
   "cell_type": "code",
   "execution_count": null,
   "metadata": {},
   "outputs": [],
   "source": [
    "deformed_intermediates = {}\n",
    "start = time.perf_counter()\n",
    "with torch.autograd.no_grad():\n",
    "    deformed_image = model.compute_deformed(shoot_solver, shoot_it, intermediates=deformed_intermediates)[0][0].detach().cpu()\n",
    "print(\"Elapsed={elapsed}\".format(elapsed=time.perf_counter()-start))"
   ]
  },
  {
   "cell_type": "markdown",
   "metadata": {},
   "source": [
    "Display deformed source image and target.\n",
    "\n",
    "\n"
   ]
  },
  {
   "cell_type": "code",
   "execution_count": null,
   "metadata": {},
   "outputs": [],
   "source": [
    "plt.figure(figsize=[15., 5.])\n",
    "plt.subplot(1, 3, 1)\n",
    "plt.title(\"Source\")\n",
    "plt.imshow(source_image, extent=extent.totuple(), origin='lower')\n",
    "plt.axis('off')\n",
    "\n",
    "plt.subplot(1, 3, 2)\n",
    "plt.title(\"Deformed\")\n",
    "plt.imshow(deformed_image, extent=extent.totuple(), origin='lower')\n",
    "plt.axis('off')\n",
    "\n",
    "plt.subplot(1, 3, 3)\n",
    "plt.title(\"Target\")\n",
    "plt.imshow(target_image, extent=extent.totuple(), origin='lower')\n",
    "plt.axis('off')\n",
    "\n",
    "plt.show()"
   ]
  },
  {
   "cell_type": "markdown",
   "metadata": {},
   "source": [
    "We can follow the action of each part of the total deformation by setting all the controls components to zero but one.\n",
    "\n",
    "\n"
   ]
  },
  {
   "cell_type": "markdown",
   "metadata": {},
   "source": [
    "Functions generating controls to follow one part of the deformation.\n",
    "\n",
    "\n"
   ]
  },
  {
   "cell_type": "code",
   "execution_count": null,
   "metadata": {},
   "outputs": [],
   "source": [
    "def generate_implicit1_controls(table):\n",
    "    outcontrols = []\n",
    "    for control in deformed_intermediates['controls']:\n",
    "        outcontrols.append(control[1]*torch.tensor(table, dtype=torch.get_default_dtype(), device=device))\n",
    "\n",
    "    return outcontrols\n",
    "\n",
    "\n",
    "def generate_controls(implicit1_table, trans):\n",
    "    outcontrols = []\n",
    "    implicit1_controls = generate_implicit1_controls(implicit1_table)\n",
    "    for control, implicit1_control in zip(deformed_intermediates['controls'], implicit1_controls):\n",
    "        outcontrols.append([implicit1_control, control[2]*torch.tensor(trans, dtype=torch.get_default_dtype(), device=device)])\n",
    "\n",
    "    return outcontrols"
   ]
  },
  {
   "cell_type": "markdown",
   "metadata": {},
   "source": [
    "Function to compute a deformation given a set of controls up to some time point.\n",
    "\n",
    "\n"
   ]
  },
  {
   "cell_type": "code",
   "execution_count": null,
   "metadata": {},
   "outputs": [],
   "source": [
    "grid_resolution = [16, 16]\n",
    "\n",
    "\n",
    "def compute_intermediate_deformed(it, controls, t1, intermediates=None):\n",
    "    implicit1_points = deformed_intermediates['states'][0][1].gd[0]\n",
    "    implicit1_r = deformed_intermediates['states'][0][1].gd[1]\n",
    "    implicit1_cotan_points = deformed_intermediates['states'][0][1].cotan[0]\n",
    "    implicit1_cotan_r = deformed_intermediates['states'][0][1].cotan[1]\n",
    "    silent_cotan = deformed_intermediates['states'][0][0].cotan\n",
    "\n",
    "    implicit1 = imodal.DeformationModules.ImplicitModule1(2, implicit1_points.shape[0], sigma1, implicit1_c.clone(), nu=implicit1_nu, gd=(implicit1_points.clone(), implicit1_r.clone()), cotan=(implicit1_cotan_points, implicit1_cotan_r), coeff=implicit1_coeff)\n",
    "    global_translation = imodal.DeformationModules.GlobalTranslation(2, coeff=global_translation_coeff)\n",
    "\n",
    "    implicit1.to_(device=device)\n",
    "    global_translation.to_(device=device)\n",
    "\n",
    "    source_deformable = imodal.Models.DeformableImage(source_image, output='bitmap', extent=extent)\n",
    "    source_deformable.silent_module.manifold.cotan = silent_cotan\n",
    "\n",
    "    grid_deformable = imodal.Models.DeformableGrid(extent, grid_resolution)\n",
    "\n",
    "    source_deformable.to_device(device)\n",
    "    grid_deformable.to_device(device)\n",
    "\n",
    "    costs = {}\n",
    "    with torch.autograd.no_grad():\n",
    "        deformed = imodal.Models.deformables_compute_deformed([source_deformable, grid_deformable], [implicit1, global_translation], shoot_solver, it, controls=controls, t1=t1, intermediates=intermediates, costs=costs)\n",
    "\n",
    "    return deformed[0][0]"
   ]
  },
  {
   "cell_type": "markdown",
   "metadata": {},
   "source": [
    "Functions to generate the deformation trajectory given a set of controls.\n",
    "\n",
    "\n"
   ]
  },
  {
   "cell_type": "code",
   "execution_count": null,
   "metadata": {},
   "outputs": [],
   "source": [
    "def generate_images(table, trans, outputfilename):\n",
    "    incontrols = generate_controls(table, trans)\n",
    "    intermediates_shape = {}\n",
    "    deformed = compute_intermediate_deformed(10, incontrols, 1., intermediates=intermediates_shape)\n",
    "\n",
    "    trajectory_grid = [imodal.Utilities.vec2grid(state[1].gd, grid_resolution[0], grid_resolution[1]) for state in intermediates_shape['states']]\n",
    "\n",
    "    trajectory = [source_image]\n",
    "    t = torch.linspace(0., 1., 11)\n",
    "    indices = [0, 3, 7, 10]\n",
    "    print(\"Computing trajectories...\")\n",
    "    for index in indices[1:]:\n",
    "        print(\"{}, t={}\".format(index, t[index]))\n",
    "        deformed = compute_intermediate_deformed(index, incontrols[:4*index], t[index])\n",
    "\n",
    "        trajectory.append(deformed)\n",
    "\n",
    "    print(\"Generating images...\")\n",
    "    plt.figure(figsize=[5.*len(indices), 5.])\n",
    "    for deformed, i in zip(trajectory, range(len(indices))):\n",
    "        ax = plt.subplot(1, len(indices), i + 1)\n",
    "\n",
    "        grid = trajectory_grid[indices[i]]\n",
    "        plt.imshow(deformed.cpu(), origin='lower', extent=extent, cmap='gray')\n",
    "        imodal.Utilities.plot_grid(ax, grid[0].cpu(), grid[1].cpu(), color='xkcd:light blue', lw=1)\n",
    "        plt.xlim(0., 1.)\n",
    "        plt.ylim(0., 1.)\n",
    "        plt.axis('off')\n",
    "\n",
    "    plt.tight_layout()\n",
    "    plt.show()"
   ]
  },
  {
   "cell_type": "markdown",
   "metadata": {},
   "source": [
    "Generate trajectory of the total optimized deformation.\n",
    "\n",
    "\n"
   ]
  },
  {
   "cell_type": "code",
   "execution_count": null,
   "metadata": {},
   "outputs": [],
   "source": [
    "generate_images([True, True, True, True], True, \"deformed_all\")"
   ]
  },
  {
   "cell_type": "markdown",
   "metadata": {},
   "source": [
    "Generate trajectory following vertical elongation of the trunk.\n",
    "\n",
    "\n"
   ]
  },
  {
   "cell_type": "code",
   "execution_count": null,
   "metadata": {},
   "outputs": [],
   "source": [
    "generate_images([False, True, False, False], False, \"deformed_trunk_vertical\")"
   ]
  },
  {
   "cell_type": "markdown",
   "metadata": {},
   "source": [
    "Generate trajectory following horizontal elongation of the crown.\n",
    "\n",
    "\n"
   ]
  },
  {
   "cell_type": "code",
   "execution_count": null,
   "metadata": {},
   "outputs": [],
   "source": [
    "generate_images([False, False, True, False], False, \"deformed_crown_horizontal\")"
   ]
  }
 ],
 "metadata": {
  "kernelspec": {
   "display_name": "Python 3",
   "language": "python",
   "name": "python3"
  },
  "language_info": {
   "codemirror_mode": {
    "name": "ipython",
    "version": 3
   },
   "file_extension": ".py",
   "mimetype": "text/x-python",
   "name": "python",
   "nbconvert_exporter": "python",
   "pygments_lexer": "ipython3",
   "version": "3.6.9"
  }
 },
 "nbformat": 4,
 "nbformat_minor": 1
}
