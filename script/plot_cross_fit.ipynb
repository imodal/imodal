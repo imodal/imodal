{
  "cells": [
    {
      "cell_type": "code",
      "execution_count": null,
      "metadata": {
        "collapsed": false
      },
      "outputs": [],
      "source": [
        "%matplotlib inline"
      ]
    },
    {
      "cell_type": "markdown",
      "metadata": {},
      "source": [
        "\n# Fitting an image and points\n\nIn this example, we will fit a cross onto the same cross, but rotated. We will take advantage of this knowledge and use a rotation deformation module. We will also add some noise on the initial center guess to show how to fit the geometrical descriptors. In addition to images, we add points at the extremity of each branch that will also get matched in order to illustrate multi deformables matching. This also helps the fitting process by adding more information to the model.\n\n\n"
      ]
    },
    {
      "cell_type": "markdown",
      "metadata": {},
      "source": [
        "Import relevant modules.\n\n\n"
      ]
    },
    {
      "cell_type": "code",
      "execution_count": null,
      "metadata": {
        "collapsed": false
      },
      "outputs": [],
      "source": [
        "import sys\nsys.path.append(\"../\")\n\nimport math\n\nimport torch\nimport matplotlib.pyplot as plt\nimport scipy.ndimage\n\nimport imodal\n\nimodal.Utilities.set_compute_backend('torch')"
      ]
    },
    {
      "cell_type": "markdown",
      "metadata": {},
      "source": [
        "Load image data and generate dots.\n\n\n"
      ]
    },
    {
      "cell_type": "code",
      "execution_count": null,
      "metadata": {
        "collapsed": false
      },
      "outputs": [],
      "source": [
        "source_image = imodal.Utilities.load_greyscale_image(\"../data/images/cross_+_30.png\", origin='lower')\ntarget_image = imodal.Utilities.load_greyscale_image(\"../data/images/cross_+.png\", origin='lower')\n\n# Smoothing\nsig_smooth = 0.\nsource_image = torch.tensor(scipy.ndimage.gaussian_filter(source_image, sig_smooth))\ntarget_image = torch.tensor(scipy.ndimage.gaussian_filter(target_image, sig_smooth))\n\nextent_length = 31.\nextent = imodal.Utilities.AABB(0., extent_length, 0., extent_length)\n\ndots = torch.tensor([[0., 0.5],\n                     [0.5, 0.],\n                     [0., -0.5],\n                     [-0.5, 0.]])\n\nsource_dots = 0.6*extent_length*imodal.Utilities.linear_transform(dots, imodal.Utilities.rot2d(math.pi/3)) + extent_length*torch.tensor([0.5, 0.5])\n\ntarget_dots = 0.6*extent_length*imodal.Utilities.linear_transform(dots, imodal.Utilities.rot2d(math.pi/1)) + extent_length*torch.tensor([0.5, 0.5])\n\ncenter = extent_length*torch.tensor([[0.3, 0.1]])"
      ]
    },
    {
      "cell_type": "markdown",
      "metadata": {},
      "source": [
        "Plot everything.\n\n\n"
      ]
    },
    {
      "cell_type": "code",
      "execution_count": null,
      "metadata": {
        "collapsed": false
      },
      "outputs": [],
      "source": [
        "plt.subplot(1, 2, 1)\nplt.title(\"Source image\")\nplt.imshow(source_image, origin='lower', extent=extent.totuple())\nplt.plot(source_dots.numpy()[:, 0], source_dots.numpy()[:, 1], '.')\nplt.plot(center.numpy()[:, 0], center.numpy()[:, 1], '.')\n\nplt.subplot(1, 2, 2)\nplt.title(\"Target image\")\nplt.imshow(target_image, origin='lower', extent=extent.totuple())\nplt.plot(target_dots.numpy()[:, 0], target_dots.numpy()[:, 1], '.')\n\nplt.show()"
      ]
    },
    {
      "cell_type": "markdown",
      "metadata": {},
      "source": [
        "We know that the target cross is the result of some rotation at its origin,\nso we use a local rotation deformation module, with an imprecise center\nposition to simulate data aquisition noise.\n\n\n"
      ]
    },
    {
      "cell_type": "code",
      "execution_count": null,
      "metadata": {
        "collapsed": false
      },
      "outputs": [],
      "source": [
        "rotation = imodal.DeformationModules.LocalRotation(2, 2.*extent_length, gd=center)"
      ]
    },
    {
      "cell_type": "markdown",
      "metadata": {},
      "source": [
        "Create the model by setting `True` for `fit_gd` so that it also optimize the\nrotation center.\n\n\n"
      ]
    },
    {
      "cell_type": "code",
      "execution_count": null,
      "metadata": {
        "collapsed": false
      },
      "outputs": [],
      "source": [
        "source_deformable = imodal.Models.DeformableImage(source_image, output='bitmap', extent='match', backward=True)\ntarget_deformable = imodal.Models.DeformableImage(target_image, output='bitmap', extent='match', backward=True)\n\nsource_dots_deformable = imodal.Models.DeformablePoints(source_dots)\ntarget_dots_deformable = imodal.Models.DeformablePoints(target_dots)\n\nattachment = imodal.Attachment.L2NormAttachment(transform=None)\n\nmodel = imodal.Models.RegistrationModel([source_deformable, source_dots_deformable], [rotation], [attachment, imodal.Attachment.EuclideanPointwiseDistanceAttachment()], fit_gd=[True], lam=1000.)"
      ]
    },
    {
      "cell_type": "markdown",
      "metadata": {},
      "source": [
        "Fit the model.\n\n\n"
      ]
    },
    {
      "cell_type": "code",
      "execution_count": null,
      "metadata": {
        "collapsed": false
      },
      "outputs": [],
      "source": [
        "shoot_solver = 'rk4'\nshoot_it = 10\nmax_it = 100\n\ncosts = {}\nfitter = imodal.Models.Fitter(model, optimizer='torch_lbfgs')\n\nfitter.fit([target_deformable, target_dots_deformable], max_it, costs=costs, options={'shoot_solver': shoot_solver, 'shoot_it': shoot_it, 'line_search_fn': 'strong_wolfe'})"
      ]
    },
    {
      "cell_type": "markdown",
      "metadata": {},
      "source": [
        "Plot total cost evolution.\n\n\n"
      ]
    },
    {
      "cell_type": "code",
      "execution_count": null,
      "metadata": {
        "collapsed": false
      },
      "outputs": [],
      "source": [
        "total_costs = [sum(cost) for cost in list(map(list, zip(*costs.values())))]\n\nplt.title(\"Total cost evolution\")\nplt.xlabel(\"Iteration\")\nplt.ylabel(\"Cost\")\nplt.grid(True)\nplt.plot(range(len(total_costs)), total_costs, color='black', lw=0.7)\nplt.show()"
      ]
    },
    {
      "cell_type": "markdown",
      "metadata": {},
      "source": [
        "Compute the final deformed source and plot it.\n\n\n"
      ]
    },
    {
      "cell_type": "code",
      "execution_count": null,
      "metadata": {
        "collapsed": false
      },
      "outputs": [],
      "source": [
        "with torch.autograd.no_grad():\n    model.deformables[0].output = 'bitmap'\n    deformed = model.compute_deformed(shoot_solver, shoot_it)\n\n    deformed_image = deformed[0][0].view_as(source_image)\n    deformed_dots = deformed[1][0]\n\nfitted_center = model.init_manifold[2].gd.detach()\n\nprint(\"Fitted rotatation center: {center}\".format(center=fitted_center.detach().tolist()))\n\nplt.subplot(1, 3, 1)\nplt.title(\"Source image\")\nplt.imshow(source_image.numpy(), origin='lower', extent=extent.totuple())\nplt.plot(source_dots.numpy()[:, 0], source_dots.numpy()[:, 1], '.')\nplt.plot(center.numpy()[0, 0], center.numpy()[0, 1], 'X')\nplt.axis('off')\n\nplt.subplot(1, 3, 2)\nplt.title(\"Fitted image\")\nplt.imshow(deformed_image.numpy(), origin='lower', extent=extent.totuple())\nplt.plot(deformed_dots.numpy()[:, 0], deformed_dots.numpy()[:, 1], '.')\nplt.plot(fitted_center.numpy()[0, 0], fitted_center.numpy()[0, 1], 'X')\nplt.axis('off')\n\nplt.subplot(1, 3, 3)\nplt.title(\"Target image\")\nplt.imshow(target_image.numpy(), origin='lower', extent=extent.totuple())\nplt.plot(target_dots.numpy()[:, 0], target_dots.numpy()[:, 1], '.')\nplt.axis('off')\n\nplt.show()"
      ]
    }
  ],
  "metadata": {
    "kernelspec": {
      "display_name": "Python 3",
      "language": "python",
      "name": "python3"
    },
    "language_info": {
      "codemirror_mode": {
        "name": "ipython",
        "version": 3
      },
      "file_extension": ".py",
      "mimetype": "text/x-python",
      "name": "python",
      "nbconvert_exporter": "python",
      "pygments_lexer": "ipython3",
      "version": "3.6.9"
    }
  },
  "nbformat": 4,
  "nbformat_minor": 0
}