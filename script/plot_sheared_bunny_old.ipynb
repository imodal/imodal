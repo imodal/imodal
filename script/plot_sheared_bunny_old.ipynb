{
  "cells": [
    {
      "cell_type": "code",
      "execution_count": null,
      "metadata": {
        "collapsed": false
      },
      "outputs": [],
      "source": [
        "%matplotlib inline"
      ]
    },
    {
      "cell_type": "markdown",
      "metadata": {},
      "source": [
        "\n# Sheared bunny\n\n3D meshes registration using implicit modules of order 1. Normal frames and growth factor are optimized.\n\n"
      ]
    },
    {
      "cell_type": "markdown",
      "metadata": {},
      "source": [
        "Important relevant Python modules.\n\n\n"
      ]
    },
    {
      "cell_type": "code",
      "execution_count": null,
      "metadata": {
        "collapsed": false
      },
      "outputs": [],
      "source": [
        "import sys\nsys.path.append(\"../\")\n\nimport torch\nimport meshio\n\n\nimport imodal\n\ntorch.set_default_dtype(torch.float64)\nimodal.Utilities.set_compute_backend('keops')\ndevice = 'cuda:2'\n#device = 'cpu'"
      ]
    },
    {
      "cell_type": "markdown",
      "metadata": {},
      "source": [
        "Load source and target data.\n\n\n"
      ]
    },
    {
      "cell_type": "code",
      "execution_count": null,
      "metadata": {
        "collapsed": false
      },
      "outputs": [],
      "source": [
        "data_folder = \"../data/\"\nsource_mesh = meshio.read(data_folder+\"bunny.ply\")\ntarget_mesh = meshio.read(data_folder+\"bunny_shear.ply\")\n\nsource_points = torch.tensor(source_mesh.points, dtype=torch.get_default_dtype())\ntarget_points = torch.tensor(target_mesh.points, dtype=torch.get_default_dtype())\nsource_triangles = torch.tensor(source_mesh.cells_dict['triangle'], dtype=torch.long)\ntarget_triangles = torch.tensor(target_mesh.cells_dict['triangle'], dtype=torch.long)"
      ]
    },
    {
      "cell_type": "markdown",
      "metadata": {},
      "source": [
        "Rescaling source and target.\n\n\n"
      ]
    },
    {
      "cell_type": "code",
      "execution_count": null,
      "metadata": {
        "collapsed": false
      },
      "outputs": [],
      "source": [
        "scale_factor = 100.\nsource_points = scale_factor*(source_points - torch.mean(source_points, dim=0))\ntarget_points = scale_factor*(target_points - torch.mean(target_points, dim=0))"
      ]
    },
    {
      "cell_type": "markdown",
      "metadata": {},
      "source": [
        "Setting up the implicit module of order 1 parameters: points positions, growth model tensor and normal frames.\n\n\n"
      ]
    },
    {
      "cell_type": "code",
      "execution_count": null,
      "metadata": {
        "collapsed": false
      },
      "outputs": [],
      "source": [
        "# Defining an AABB around the source\naabb_source = imodal.Utilities.AABB.build_from_points(1.8*source_points)\n\n# Generation of growth points\nimplicit1_density = 0.1\nimplicit1_points = imodal.Utilities.fill_area_uniform_density(imodal.Utilities.area_convex_hull, aabb_source, implicit1_density, scatter=1.8*source_points)\n\n# Placeholders for growth factor and normal frames\nimplicit1_r = torch.empty(implicit1_points.shape[0], 3, 3)\nimplicit1_c = torch.empty(implicit1_points.shape[0], 3, 1)\n\n# Initial growth factor constants\ngrowth_constants = torch.tensor([[[1.], [1.], [1.]]], requires_grad=True, device=device)\n\n# Initial normal frames angles. Normal frames are rotation matrices and thus defined by 3 angles.\nangles = torch.zeros(implicit1_points.shape[0], 3, requires_grad=True, device=device)"
      ]
    },
    {
      "cell_type": "markdown",
      "metadata": {},
      "source": [
        "Create the deformation model with a combination of 3 modules : implicit module\nof order 1 (growth model), implicit module of order 0 (small corrections), global translation\nand a large scale rotation.\n\n\n"
      ]
    },
    {
      "cell_type": "markdown",
      "metadata": {},
      "source": [
        "Create and initialize the global translation module.\n\n\n"
      ]
    },
    {
      "cell_type": "code",
      "execution_count": null,
      "metadata": {
        "collapsed": false
      },
      "outputs": [],
      "source": [
        "global_translation = imodal.DeformationModules.GlobalTranslation(3, coeff=10.)\n\n\nimplicit0_density = 0.4\nsigma0 = 2.5/implicit0_density**(1/3)\n\nimplicit0_points = imodal.Utilities.fill_area_uniform_density(imodal.Utilities.area_convex_hull, aabb_source, implicit0_density, scatter=1.4*source_points)\n\nimplicit0 = imodal.DeformationModules.ImplicitModule0(3, implicit0_points.shape[0], sigma0, nu=1., gd=implicit0_points, coeff=100.)\n\nprint(\"{} points for the implicit module of order 0, sigma={}.\".format(implicit0_points.shape[0], sigma0))"
      ]
    },
    {
      "cell_type": "markdown",
      "metadata": {},
      "source": [
        "Create and initialize the growth module.\n\n\n"
      ]
    },
    {
      "cell_type": "code",
      "execution_count": null,
      "metadata": {
        "collapsed": false
      },
      "outputs": [],
      "source": [
        "# sigma1 = 2.5/implicit1_density**(1/3)\nsigma1 = 2.5/implicit1_density**(1/3)\n\nimplicit1 = imodal.DeformationModules.ImplicitModule1(3, implicit1_points.shape[0], sigma1, implicit1_c, nu=10., gd=(implicit1_points, implicit1_r), coeff=0.001)\nimplicit1.eps = 1e-5\n\nprint(\"{} points for the implicit module of order 1, using kernel size {}.\".format(implicit1_points.shape[0], sigma1))"
      ]
    },
    {
      "cell_type": "markdown",
      "metadata": {},
      "source": [
        "Create and initialize the local large scale rotation.\n\n\n"
      ]
    },
    {
      "cell_type": "code",
      "execution_count": null,
      "metadata": {
        "collapsed": false
      },
      "outputs": [],
      "source": [
        "rotation = imodal.DeformationModules.LocalRotation(3, 30., gd=torch.tensor([[0., 0., 0.], [0., 0., 1.]], device=device, requires_grad=True), backend='torch', coeff=10.)"
      ]
    },
    {
      "cell_type": "markdown",
      "metadata": {},
      "source": [
        "Define our growth factor model.\n\n\n"
      ]
    },
    {
      "cell_type": "code",
      "execution_count": null,
      "metadata": {
        "collapsed": false
      },
      "outputs": [],
      "source": [
        "# Function that computes normal frames from angles.\ndef compute_basis(angles):\n    rot_x = imodal.Utilities.rot3d_x_vec(angles[:, 0])\n    rot_y = imodal.Utilities.rot3d_y_vec(angles[:, 1])\n    rot_z = imodal.Utilities.rot3d_z_vec(angles[:, 2])\n    return torch.einsum('nik, nkl, nlj->nij', rot_z, rot_y, rot_x)\n\n\n# Function that computes growth factor from growth factor constants.\ndef compute_growth(growth_constants):\n    return growth_constants.repeat(implicit1_points.shape[0], 1, 1)\n\n\n# Callback used by the registration model to compute the new growth factor\n# and normal frames.\ndef precompute(init_manifold, modules, parameters, deformables):\n    init_manifold[1].gd = (init_manifold[1].gd[0], compute_basis(parameters['growth']['params'][0]))\n    modules[1].C = compute_growth(parameters['growth']['params'][1])"
      ]
    },
    {
      "cell_type": "markdown",
      "metadata": {},
      "source": [
        "Define deformables used by the registration model.\n\n\n"
      ]
    },
    {
      "cell_type": "code",
      "execution_count": null,
      "metadata": {
        "collapsed": false
      },
      "outputs": [],
      "source": [
        "deformable_source = imodal.Models.DeformableMesh(source_points, source_triangles)\ndeformable_target = imodal.Models.DeformableMesh(target_points, target_triangles)\n\ndeformable_source.to_device(device)\ndeformable_target.to_device(device)"
      ]
    },
    {
      "cell_type": "markdown",
      "metadata": {},
      "source": [
        "Define the registration model.\n\n\n"
      ]
    },
    {
      "cell_type": "code",
      "execution_count": null,
      "metadata": {
        "collapsed": false
      },
      "outputs": [],
      "source": [
        "sigmas_varifold = [1., 5., 15.]\nattachment = imodal.Attachment.VarifoldAttachment(3, sigmas_varifold)\n\nmodel = imodal.Models.RegistrationModel(deformable_source, [implicit1, global_translation, rotation, implicit0], [attachment], lam=100., precompute_callback=precompute, other_parameters={'growth': {'params': [angles, growth_constants]}}, fit_gd=[False, False, True, False])\nmodel.to_device(device)"
      ]
    },
    {
      "cell_type": "markdown",
      "metadata": {},
      "source": [
        "Fitting using Torch LBFGS optimizer.\n\n\n"
      ]
    },
    {
      "cell_type": "code",
      "execution_count": null,
      "metadata": {
        "collapsed": false
      },
      "outputs": [],
      "source": [
        "shoot_solver = 'euler'\nshoot_it = 10\ncosts = {}\nfitter = imodal.Models.Fitter(model, optimizer='torch_lbfgs')\n\nfitter.fit(deformable_target, 500, costs=costs, options={'shoot_solver': shoot_solver, 'shoot_it': shoot_it, 'history_size': 500})"
      ]
    },
    {
      "cell_type": "markdown",
      "metadata": {},
      "source": [
        "Compute optimized deformation trajectory.\n\n\n"
      ]
    },
    {
      "cell_type": "code",
      "execution_count": null,
      "metadata": {
        "collapsed": false
      },
      "outputs": [],
      "source": [
        "import time\nintermediates = {}\nstart = time.perf_counter()\nwith torch.autograd.no_grad():\n    deformed = model.compute_deformed(shoot_solver, shoot_it, intermediates=intermediates)[0][0].detach()\nprint(\"Elapsed={elapsed}\".format(elapsed=time.perf_counter()-start))\n\nbasis = compute_basis(angles.detach()).cpu()\nC = compute_growth(growth_constants.detach()).cpu()\nprint(growth_constants.detach().cpu())\n\nimodal.Utilities.export_mesh(\"results_implicit_bunny/source.ply\", source_points.cpu(), source_triangles)\nimodal.Utilities.export_mesh(\"results_implicit_bunny/target.ply\", target_points.cpu(), target_triangles)\n\nimodal.Utilities.export_implicit1_growth(\"results_implicit_bunny/growth.vtk\", implicit1_points, C)\nimodal.Utilities.export_point_basis(\"results_implicit_bunny/basis.vtk\", implicit1_points, basis)\n\nfor i, inter in enumerate(intermediates['states']):\n    imodal.Utilities.export_mesh(\"results_implicit_bunny/{}.ply\".format(i), inter[0].gd.cpu(), source_triangles)\n\nwith open(\"results_implicit_bunny/model.txt\", 'w') as f:\n    f.write(str(model))\n\nwith open(\"results_implicit_bunny/intermediates.pt\", 'wb') as f:\n    torch.save(intermediates, f)"
      ]
    }
  ],
  "metadata": {
    "kernelspec": {
      "display_name": "Python 3",
      "language": "python",
      "name": "python3"
    },
    "language_info": {
      "codemirror_mode": {
        "name": "ipython",
        "version": 3
      },
      "file_extension": ".py",
      "mimetype": "text/x-python",
      "name": "python",
      "nbconvert_exporter": "python",
      "pygments_lexer": "ipython3",
      "version": "3.6.7"
    }
  },
  "nbformat": 4,
  "nbformat_minor": 0
}